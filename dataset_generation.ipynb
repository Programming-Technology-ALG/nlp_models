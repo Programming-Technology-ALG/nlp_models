{
 "cells": [
  {
   "cell_type": "code",
   "execution_count": 29,
   "metadata": {},
   "outputs": [],
   "source": [
    "from selenium.webdriver import Chrome\n",
    "from selenium.webdriver.chrome.options import Options\n",
    "\n",
    "from time import sleep\n",
    "import tqdm\n",
    "import json\n",
    "import time\n",
    "import re\n",
    "\n",
    "import requests\n",
    "from bs4 import BeautifulSoup\n",
    "from html2text import html2text\n",
    "\n",
    "import pandas as pd\n",
    "\n",
    "from sklearn.feature_extraction.text import CountVectorizer\n",
    "import warnings\n",
    "warnings.filterwarnings('ignore')\n",
    "\n",
    "import numpy as np\n"
   ]
  },
  {
   "cell_type": "code",
   "execution_count": 30,
   "metadata": {},
   "outputs": [
    {
     "data": {
      "text/plain": [
       "'\\nsport - 300\\neconomics - 935\\ngorod - много\\nscience - 146\\nculture - много\\nincidents - много\\npolitics - 1500\\nworld - много\\n'"
      ]
     },
     "execution_count": 30,
     "metadata": {},
     "output_type": "execute_result"
    }
   ],
   "source": [
    "category_links = [\n",
    "    ('https://www.nn.ru/text/?rubric=economics&page=', 'economics'),\n",
    "    ('https://www.nn.ru/text/?rubric=gorod&page=', 'gorod'),\n",
    "    ('https://www.nn.ru/text/?rubric=culture&page=', 'culture'),\n",
    "    ('https://www.nn.ru/text/?rubric=incidents&page=', 'incidents'),\n",
    "    ('https://www.nn.ru/text/?rubric=politics&page=', 'politics'),\n",
    "    ('https://www.nn.ru/text/?rubric=world&page=', 'world')\n",
    "]\n",
    "\n",
    "'''\n",
    "sport - 300\n",
    "economics - 935\n",
    "gorod - много\n",
    "science - 146\n",
    "culture - много\n",
    "incidents - много\n",
    "politics - 1500\n",
    "world - много\n",
    "'''"
   ]
  },
  {
   "cell_type": "code",
   "execution_count": 33,
   "metadata": {},
   "outputs": [
    {
     "name": "stdout",
     "output_type": "stream",
     "text": [
      "https://www.nn.ru/text/?rubric=economics&page=1 40\n",
      "https://www.nn.ru/text/?rubric=economics&page=2 80\n",
      "https://www.nn.ru/text/?rubric=economics&page=3 120\n",
      "https://www.nn.ru/text/?rubric=economics&page=4 160\n",
      "https://www.nn.ru/text/?rubric=economics&page=5 200\n",
      "https://www.nn.ru/text/?rubric=economics&page=6 240\n",
      "https://www.nn.ru/text/?rubric=economics&page=7 280\n",
      "https://www.nn.ru/text/?rubric=economics&page=8 320\n",
      "https://www.nn.ru/text/?rubric=economics&page=9 360\n",
      "https://www.nn.ru/text/?rubric=economics&page=10 400\n",
      "https://www.nn.ru/text/?rubric=economics&page=11 440\n",
      "https://www.nn.ru/text/?rubric=economics&page=12 480\n",
      "https://www.nn.ru/text/?rubric=economics&page=13 520\n",
      "https://www.nn.ru/text/?rubric=economics&page=14 560\n",
      "https://www.nn.ru/text/?rubric=economics&page=15 600\n",
      "https://www.nn.ru/text/?rubric=economics&page=16 640\n",
      "https://www.nn.ru/text/?rubric=economics&page=17 680\n",
      "https://www.nn.ru/text/?rubric=economics&page=18 720\n",
      "https://www.nn.ru/text/?rubric=economics&page=19 760\n",
      "https://www.nn.ru/text/?rubric=economics&page=20 800\n",
      "https://www.nn.ru/text/?rubric=economics&page=21 840\n",
      "https://www.nn.ru/text/?rubric=economics&page=22 880\n",
      "https://www.nn.ru/text/?rubric=economics&page=23 920\n",
      "https://www.nn.ru/text/?rubric=economics&page=24 937\n",
      "https://www.nn.ru/text/?rubric=gorod&page=1 40\n",
      "https://www.nn.ru/text/?rubric=gorod&page=2 80\n",
      "https://www.nn.ru/text/?rubric=gorod&page=3 120\n",
      "https://www.nn.ru/text/?rubric=gorod&page=4 160\n",
      "https://www.nn.ru/text/?rubric=gorod&page=5 200\n",
      "https://www.nn.ru/text/?rubric=gorod&page=6 240\n",
      "https://www.nn.ru/text/?rubric=gorod&page=7 280\n",
      "https://www.nn.ru/text/?rubric=gorod&page=8 320\n",
      "https://www.nn.ru/text/?rubric=gorod&page=9 360\n",
      "https://www.nn.ru/text/?rubric=gorod&page=10 400\n",
      "https://www.nn.ru/text/?rubric=gorod&page=11 440\n",
      "https://www.nn.ru/text/?rubric=gorod&page=12 480\n",
      "https://www.nn.ru/text/?rubric=gorod&page=13 520\n",
      "https://www.nn.ru/text/?rubric=gorod&page=14 560\n",
      "https://www.nn.ru/text/?rubric=gorod&page=15 600\n",
      "https://www.nn.ru/text/?rubric=gorod&page=16 640\n",
      "https://www.nn.ru/text/?rubric=gorod&page=17 680\n",
      "https://www.nn.ru/text/?rubric=gorod&page=18 720\n",
      "https://www.nn.ru/text/?rubric=gorod&page=19 760\n",
      "https://www.nn.ru/text/?rubric=gorod&page=20 800\n",
      "https://www.nn.ru/text/?rubric=gorod&page=21 840\n",
      "https://www.nn.ru/text/?rubric=gorod&page=22 880\n",
      "https://www.nn.ru/text/?rubric=gorod&page=23 920\n",
      "https://www.nn.ru/text/?rubric=gorod&page=24 960\n",
      "https://www.nn.ru/text/?rubric=culture&page=1 40\n",
      "https://www.nn.ru/text/?rubric=culture&page=2 80\n",
      "https://www.nn.ru/text/?rubric=culture&page=3 120\n",
      "https://www.nn.ru/text/?rubric=culture&page=4 160\n",
      "https://www.nn.ru/text/?rubric=culture&page=5 200\n",
      "https://www.nn.ru/text/?rubric=culture&page=6 240\n",
      "https://www.nn.ru/text/?rubric=culture&page=7 280\n",
      "https://www.nn.ru/text/?rubric=culture&page=8 320\n",
      "https://www.nn.ru/text/?rubric=culture&page=9 360\n",
      "https://www.nn.ru/text/?rubric=culture&page=10 400\n",
      "https://www.nn.ru/text/?rubric=culture&page=11 440\n",
      "https://www.nn.ru/text/?rubric=culture&page=12 480\n",
      "https://www.nn.ru/text/?rubric=culture&page=13 520\n",
      "https://www.nn.ru/text/?rubric=culture&page=14 560\n",
      "https://www.nn.ru/text/?rubric=culture&page=15 600\n"
     ]
    }
   ],
   "source": [
    "from selenium import webdriver\n",
    "from selenium.webdriver.common.keys import Keys\n",
    "from selenium.webdriver.common.by import By\n",
    "from selenium.webdriver.chrome.options import Options\n",
    "\n",
    "\n",
    "chrome_options = Options()\n",
    "prefs = {\"profile.managed_default_content_settings.images\": 2,\n",
    "            \"profile.default_content_settings.cookies\": 2,\n",
    "            \"profile.default_content_setting_values.notifications\" : 2}\n",
    "chrome_options.add_experimental_option(\"prefs\",prefs)\n",
    "chrome_options.add_argument('--disable-application-cache')\n",
    "\n",
    "driver = webdriver.Chrome(options=chrome_options)\n",
    "\n",
    "\n",
    "def sleeepy():\n",
    "    \"\"\"Not to be banned by robot check\"\"\"\n",
    "    sleep(np.random.randint(0, 50)/10)\n",
    "\n",
    "\n",
    "category_res = {}\n",
    "for link, category in category_links:\n",
    "    news_links = []\n",
    "    for page_id in range(1, 25):\n",
    "\n",
    "        if page_id % 2 == 0: sleeepy()\n",
    "\n",
    "        page_link = link + str(page_id)\n",
    "        driver.get(page_link)\n",
    "        page_news = driver.find_elements(By.CLASS_NAME, \"h9Jmx\")\n",
    "        \n",
    "        if len(page_news) == 0: break\n",
    "        for element in page_news:\n",
    "            news_links.append(element.find_element(By.TAG_NAME, 'a').get_attribute('href'))\n",
    "        print(page_link, len(news_links))\n",
    "    category_res[category] = news_links\n",
    "\n",
    "    sleeepy()\n",
    "driver.quit()\n",
    "\n",
    "data = json.dumps(category_res)\n",
    "with open(\"cache/links.json\", \"w\") as f:\n",
    "    f.write(data)"
   ]
  },
  {
   "cell_type": "code",
   "execution_count": null,
   "metadata": {},
   "outputs": [],
   "source": [
    "with open(\"cache/links.json\", \"r\") as f:\n",
    "    links = json.load(f)"
   ]
  },
  {
   "cell_type": "code",
   "execution_count": null,
   "metadata": {},
   "outputs": [
    {
     "name": "stdout",
     "output_type": "stream",
     "text": [
      "[40, 40, 40, 40, 40, 40] 240\n"
     ]
    }
   ],
   "source": [
    "leng = []\n",
    "total = 0\n",
    "for values in list(links.values()):\n",
    "    len_values = len(values)\n",
    "    leng.append(len_values)\n",
    "    total += len_values\n",
    "print(leng, total)"
   ]
  },
  {
   "cell_type": "code",
   "execution_count": null,
   "metadata": {},
   "outputs": [
    {
     "name": "stdout",
     "output_type": "stream",
     "text": [
      "=================ECONOMICS=================\n"
     ]
    },
    {
     "name": "stderr",
     "output_type": "stream",
     "text": [
      "100%|██████████| 1/1 [00:12<00:00, 12.22s/it]\n"
     ]
    },
    {
     "name": "stdout",
     "output_type": "stream",
     "text": [
      "=================GOROD=================\n"
     ]
    },
    {
     "name": "stderr",
     "output_type": "stream",
     "text": [
      "100%|██████████| 1/1 [00:05<00:00,  5.52s/it]\n"
     ]
    },
    {
     "name": "stdout",
     "output_type": "stream",
     "text": [
      "=================CULTURE=================\n"
     ]
    },
    {
     "name": "stderr",
     "output_type": "stream",
     "text": [
      "100%|██████████| 1/1 [00:07<00:00,  7.89s/it]\n"
     ]
    },
    {
     "name": "stdout",
     "output_type": "stream",
     "text": [
      "=================INCIDENTS=================\n"
     ]
    },
    {
     "name": "stderr",
     "output_type": "stream",
     "text": [
      "100%|██████████| 1/1 [00:03<00:00,  3.97s/it]\n"
     ]
    },
    {
     "name": "stdout",
     "output_type": "stream",
     "text": [
      "=================POLITICS=================\n"
     ]
    },
    {
     "name": "stderr",
     "output_type": "stream",
     "text": [
      "100%|██████████| 1/1 [00:00<00:00,  1.39it/s]\n"
     ]
    },
    {
     "name": "stdout",
     "output_type": "stream",
     "text": [
      "=================WORLD=================\n"
     ]
    },
    {
     "name": "stderr",
     "output_type": "stream",
     "text": [
      "100%|██████████| 1/1 [00:00<00:00,  1.80it/s]\n"
     ]
    }
   ],
   "source": [
    "filename = \"cache/news.json\"\n",
    "\n",
    "news = []\n",
    "driver = webdriver.Chrome(chrome_options=chrome_options)\n",
    "for category in links:\n",
    "    print(f\"================={category.upper()}=================\")\n",
    "    for link in tqdm.tqdm(links[category]):\n",
    "        try:\n",
    "            driver.get(link)\n",
    "            page_text_elements = driver.find_elements(By.XPATH, \"//div[contains(@class, 'qQq9J')]\")\n",
    "            raw_text = \" \".join([i.get_property('innerText') for i in page_text_elements]).replace('\\n', \" \")\n",
    "            text = re.sub(\" +\", \" \", raw_text)\n",
    "            key_words = driver.find_element(By.XPATH, \"//meta[contains(@name, 'news_keywords')]\").get_attribute('content')\n",
    "            title = driver.find_element(By.XPATH, \"//h1[contains(@itemprop, 'headline')]\").get_property('innerText')\n",
    "            news.append({\n",
    "                    'article_id' : link,\n",
    "                    'title': title,\n",
    "                    'category': category,\n",
    "                    'tags': key_words,\n",
    "                    'text': text\n",
    "                })\n",
    "        except:\n",
    "            continue\n",
    "driver.quit()\n",
    "\n",
    "with open(filename, \"w\", encoding='UTF-8') as f:\n",
    "    f.write(json.dumps({\n",
    "        'catalog': news\n",
    "    }, ensure_ascii=False, indent=4))"
   ]
  },
  {
   "cell_type": "code",
   "execution_count": null,
   "metadata": {},
   "outputs": [],
   "source": [
    "with open(\"cache/news.json\", 'r', encoding=\"UTF-8\") as f:\n",
    "    news = pd.DataFrame(json.load(f).get('catalog'))"
   ]
  },
  {
   "cell_type": "code",
   "execution_count": null,
   "metadata": {},
   "outputs": [
    {
     "data": {
      "text/html": [
       "<div>\n",
       "<style scoped>\n",
       "    .dataframe tbody tr th:only-of-type {\n",
       "        vertical-align: middle;\n",
       "    }\n",
       "\n",
       "    .dataframe tbody tr th {\n",
       "        vertical-align: top;\n",
       "    }\n",
       "\n",
       "    .dataframe thead th {\n",
       "        text-align: right;\n",
       "    }\n",
       "</style>\n",
       "<table border=\"1\" class=\"dataframe\">\n",
       "  <thead>\n",
       "    <tr style=\"text-align: right;\">\n",
       "      <th></th>\n",
       "      <th>article_id</th>\n",
       "      <th>title</th>\n",
       "      <th>category</th>\n",
       "      <th>tags</th>\n",
       "      <th>text</th>\n",
       "    </tr>\n",
       "  </thead>\n",
       "  <tbody>\n",
       "    <tr>\n",
       "      <th>0</th>\n",
       "      <td>https://www.nn.ru/text/economics/2023/01/17/71...</td>\n",
       "      <td>Пенсионер показал, как выросли его коммунальны...</td>\n",
       "      <td>economics</td>\n",
       "      <td>Квитанции,Пенсия,Платежки,Рост цен,Субсидии,ЖК...</td>\n",
       "      <td>Пока одни россияне молча отходят от шока после...</td>\n",
       "    </tr>\n",
       "    <tr>\n",
       "      <th>1</th>\n",
       "      <td>https://www.nn.ru/text/gorod/2023/01/17/71982941/</td>\n",
       "      <td>«Возможно, в отместку». Нижегородским чиновник...</td>\n",
       "      <td>gorod</td>\n",
       "      <td>Нижний Новгород,Кремль,Отопление,город</td>\n",
       "      <td>Завтра, 18 января, на время исчезнет отопление...</td>\n",
       "    </tr>\n",
       "    <tr>\n",
       "      <th>2</th>\n",
       "      <td>https://www.nn.ru/text/culture/2023/01/17/7197...</td>\n",
       "      <td>Рядом с Меньшовым и Жванецким: как в Москве хо...</td>\n",
       "      <td>culture</td>\n",
       "      <td>культура</td>\n",
       "      <td>Сегодня в Москве прощаются с Инной Чуриковой. ...</td>\n",
       "    </tr>\n",
       "    <tr>\n",
       "      <th>3</th>\n",
       "      <td>https://www.nn.ru/text/incidents/2023/01/17/71...</td>\n",
       "      <td>В Верхних Печерах два огромных алабая напали н...</td>\n",
       "      <td>incidents</td>\n",
       "      <td>Верхние Печеры,Нападение собак,Алабаи,происшес...</td>\n",
       "      <td>В Верхних Печерах два огромных алабая напали н...</td>\n",
       "    </tr>\n",
       "    <tr>\n",
       "      <th>4</th>\n",
       "      <td>https://www.nn.ru/text/politics/2023/01/17/719...</td>\n",
       "      <td>«Один проливает кровь, а другой греет ляжки у ...</td>\n",
       "      <td>politics</td>\n",
       "      <td>Нижний Новгород,Евгений Люлин,Политика,политика</td>\n",
       "      <td>Председатель нижегородского Заксобрания Евгени...</td>\n",
       "    </tr>\n",
       "    <tr>\n",
       "      <th>5</th>\n",
       "      <td>https://www.nn.ru/text/world/2023/01/18/71981936/</td>\n",
       "      <td>«Фиеста закончилась»: эмигрировавший блогер — ...</td>\n",
       "      <td>world</td>\n",
       "      <td>Турция,Эмигранты,Эмиграция,ВНЖ,Частичная мобил...</td>\n",
       "      <td>Одной из стран, в которых решили обосноваться ...</td>\n",
       "    </tr>\n",
       "  </tbody>\n",
       "</table>\n",
       "</div>"
      ],
      "text/plain": [
       "                                          article_id  \\\n",
       "0  https://www.nn.ru/text/economics/2023/01/17/71...   \n",
       "1  https://www.nn.ru/text/gorod/2023/01/17/71982941/   \n",
       "2  https://www.nn.ru/text/culture/2023/01/17/7197...   \n",
       "3  https://www.nn.ru/text/incidents/2023/01/17/71...   \n",
       "4  https://www.nn.ru/text/politics/2023/01/17/719...   \n",
       "5  https://www.nn.ru/text/world/2023/01/18/71981936/   \n",
       "\n",
       "                                               title   category  \\\n",
       "0  Пенсионер показал, как выросли его коммунальны...  economics   \n",
       "1  «Возможно, в отместку». Нижегородским чиновник...      gorod   \n",
       "2  Рядом с Меньшовым и Жванецким: как в Москве хо...    culture   \n",
       "3  В Верхних Печерах два огромных алабая напали н...  incidents   \n",
       "4  «Один проливает кровь, а другой греет ляжки у ...   politics   \n",
       "5  «Фиеста закончилась»: эмигрировавший блогер — ...      world   \n",
       "\n",
       "                                                tags  \\\n",
       "0  Квитанции,Пенсия,Платежки,Рост цен,Субсидии,ЖК...   \n",
       "1             Нижний Новгород,Кремль,Отопление,город   \n",
       "2                                           культура   \n",
       "3  Верхние Печеры,Нападение собак,Алабаи,происшес...   \n",
       "4    Нижний Новгород,Евгений Люлин,Политика,политика   \n",
       "5  Турция,Эмигранты,Эмиграция,ВНЖ,Частичная мобил...   \n",
       "\n",
       "                                                text  \n",
       "0  Пока одни россияне молча отходят от шока после...  \n",
       "1  Завтра, 18 января, на время исчезнет отопление...  \n",
       "2  Сегодня в Москве прощаются с Инной Чуриковой. ...  \n",
       "3  В Верхних Печерах два огромных алабая напали н...  \n",
       "4  Председатель нижегородского Заксобрания Евгени...  \n",
       "5  Одной из стран, в которых решили обосноваться ...  "
      ]
     },
     "execution_count": 28,
     "metadata": {},
     "output_type": "execute_result"
    }
   ],
   "source": [
    "news"
   ]
  },
  {
   "cell_type": "code",
   "execution_count": null,
   "metadata": {},
   "outputs": [],
   "source": []
  }
 ],
 "metadata": {
  "kernelspec": {
   "display_name": "venv",
   "language": "python",
   "name": "python3"
  },
  "language_info": {
   "codemirror_mode": {
    "name": "ipython",
    "version": 3
   },
   "file_extension": ".py",
   "mimetype": "text/x-python",
   "name": "python",
   "nbconvert_exporter": "python",
   "pygments_lexer": "ipython3",
   "version": "3.10.8"
  },
  "orig_nbformat": 4,
  "vscode": {
   "interpreter": {
    "hash": "f8378c2eac6e99e6afd3bc83cd2d86f951c26788ceeb3cc02a7a609063a83c45"
   }
  }
 },
 "nbformat": 4,
 "nbformat_minor": 2
}
